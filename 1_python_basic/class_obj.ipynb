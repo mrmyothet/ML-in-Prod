{
 "cells": [
  {
   "cell_type": "code",
   "execution_count": 1,
   "metadata": {},
   "outputs": [],
   "source": [
    "from model import Item, Categories, SaleItem"
   ]
  },
  {
   "cell_type": "code",
   "execution_count": 2,
   "metadata": {},
   "outputs": [],
   "source": [
    "cat1 = Categories(created_date='03-06-2024', id='cat-001',name='Local coffee')\n",
    "\n",
    "i1 = Item(created_date='12-06-2024', item_id='i_001', name='Super coffee', qr_code='0000',\n",
    "price=3900, buying_price=3500, category=cat1)\n",
    "i2 = Item('17-06-2024', 'i_002', 'Sunday Coffee', '0000', 3450, 3000, cat1)\n",
    "i3 = Item(\"01-06-2024\", \"i_003\", \"Hsu Coffee\", \"0000\", 5450, 5200, cat1)"
   ]
  },
  {
   "cell_type": "code",
   "execution_count": 3,
   "metadata": {},
   "outputs": [],
   "source": [
    "sale1=  SaleItem(customer_id='CU_000001',created_date='15-06-2024',item=i1 )\n",
    "sale2=  SaleItem(customer_id='CU_000001',created_date='21-06-2024',item=i1 )\n",
    "sale3=  SaleItem(customer_id='CU_000001',created_date='21-06-2024',item=i2 )\n",
    "sale4=  SaleItem(customer_id='CU_000001',created_date='21-06-2024',item=i3 )\n",
    "sale5=  SaleItem(customer_id='CU_000001',created_date='01-07-2024',item=i2 )\n",
    "sale6=  SaleItem(customer_id='CU_000001',created_date='01-07-2024',item=i1 )\n",
    "sale7=  SaleItem(customer_id='CU_000001',created_date='10-07-2024',item=i3 )\n",
    "sale8=  SaleItem(customer_id='CU_000001',created_date='10-07-2024',item=i2 )\n",
    "sale9=  SaleItem(customer_id='CU_000001',created_date='10-07-2024',item=i3 )\n",
    "total_sale = [sale1,sale2,sale3,sale4,sale5,sale6,sale7,sale8,sale9]"
   ]
  },
  {
   "cell_type": "code",
   "execution_count": 8,
   "metadata": {},
   "outputs": [
    {
     "data": {
      "text/plain": [
       "{'created_date': ['15-06-2024',\n",
       "  '21-06-2024',\n",
       "  '21-06-2024',\n",
       "  '21-06-2024',\n",
       "  '01-07-2024',\n",
       "  '01-07-2024',\n",
       "  '10-07-2024',\n",
       "  '10-07-2024',\n",
       "  '10-07-2024'],\n",
       " 'item_name': ['Super coffee',\n",
       "  'Super coffee',\n",
       "  'Sunday Coffee',\n",
       "  'Hsu Coffee',\n",
       "  'Sunday Coffee',\n",
       "  'Super coffee',\n",
       "  'Hsu Coffee',\n",
       "  'Sunday Coffee',\n",
       "  'Hsu Coffee'],\n",
       " 'profit': [400, 400, 450, 250, 450, 400, 250, 450, 250],\n",
       " 'category_name': ['Local coffee',\n",
       "  'Local coffee',\n",
       "  'Local coffee',\n",
       "  'Local coffee',\n",
       "  'Local coffee',\n",
       "  'Local coffee',\n",
       "  'Local coffee',\n",
       "  'Local coffee',\n",
       "  'Local coffee']}"
      ]
     },
     "execution_count": 8,
     "metadata": {},
     "output_type": "execute_result"
    }
   ],
   "source": [
    "sale_item_dict = {\n",
    "    \"created_date\": [],\n",
    "    \"item_name\": [], \n",
    "    \"profit\":[], \n",
    "    \"category_name\": []\n",
    "}\n",
    "\n",
    "for cur_obj in total_sale:\n",
    "    sale_item_dict[\"created_date\"].append(cur_obj.created_date)\n",
    "    sale_item_dict[\"item_name\"].append(cur_obj.item.name)\n",
    "    sale_item_dict[\"profit\"].append(cur_obj.item.getProfit())\n",
    "    sale_item_dict[\"category_name\"].append(cur_obj.item.category.name)\n",
    "\n",
    "sale_item_dict"
   ]
  },
  {
   "cell_type": "code",
   "execution_count": 9,
   "metadata": {},
   "outputs": [
    {
     "name": "stdout",
     "output_type": "stream",
     "text": [
      "Collecting pandas\n",
      "  Downloading pandas-2.2.3-cp310-cp310-macosx_10_9_x86_64.whl.metadata (89 kB)\n",
      "Collecting numpy>=1.22.4 (from pandas)\n",
      "  Downloading numpy-2.2.1-cp310-cp310-macosx_10_9_x86_64.whl.metadata (62 kB)\n",
      "Requirement already satisfied: python-dateutil>=2.8.2 in /opt/anaconda3/envs/dev_env/lib/python3.10/site-packages (from pandas) (2.9.0.post0)\n",
      "Collecting pytz>=2020.1 (from pandas)\n",
      "  Using cached pytz-2024.2-py2.py3-none-any.whl.metadata (22 kB)\n",
      "Collecting tzdata>=2022.7 (from pandas)\n",
      "  Using cached tzdata-2024.2-py2.py3-none-any.whl.metadata (1.4 kB)\n",
      "Requirement already satisfied: six>=1.5 in /opt/anaconda3/envs/dev_env/lib/python3.10/site-packages (from python-dateutil>=2.8.2->pandas) (1.17.0)\n",
      "Downloading pandas-2.2.3-cp310-cp310-macosx_10_9_x86_64.whl (12.6 MB)\n",
      "\u001b[2K   \u001b[90m━━━━━━━━━━━━━━━━━━━━━━━━━━━━━━━━━━━━━━━━\u001b[0m \u001b[32m12.6/12.6 MB\u001b[0m \u001b[31m16.7 MB/s\u001b[0m eta \u001b[36m0:00:00\u001b[0ma \u001b[36m0:00:01\u001b[0m\n",
      "\u001b[?25hDownloading numpy-2.2.1-cp310-cp310-macosx_10_9_x86_64.whl (21.2 MB)\n",
      "\u001b[2K   \u001b[90m━━━━━━━━━━━━━━━━━━━━━━━━━━━━━━━━━━━━━━━━\u001b[0m \u001b[32m21.2/21.2 MB\u001b[0m \u001b[31m16.9 MB/s\u001b[0m eta \u001b[36m0:00:00\u001b[0ma \u001b[36m0:00:01\u001b[0m\n",
      "\u001b[?25hUsing cached pytz-2024.2-py2.py3-none-any.whl (508 kB)\n",
      "Using cached tzdata-2024.2-py2.py3-none-any.whl (346 kB)\n",
      "Installing collected packages: pytz, tzdata, numpy, pandas\n",
      "Successfully installed numpy-2.2.1 pandas-2.2.3 pytz-2024.2 tzdata-2024.2\n"
     ]
    }
   ],
   "source": [
    "!pip install pandas"
   ]
  },
  {
   "cell_type": "code",
   "execution_count": 10,
   "metadata": {},
   "outputs": [],
   "source": [
    "import pandas as pd"
   ]
  },
  {
   "cell_type": "code",
   "execution_count": 11,
   "metadata": {},
   "outputs": [
    {
     "data": {
      "text/html": [
       "<div>\n",
       "<style scoped>\n",
       "    .dataframe tbody tr th:only-of-type {\n",
       "        vertical-align: middle;\n",
       "    }\n",
       "\n",
       "    .dataframe tbody tr th {\n",
       "        vertical-align: top;\n",
       "    }\n",
       "\n",
       "    .dataframe thead th {\n",
       "        text-align: right;\n",
       "    }\n",
       "</style>\n",
       "<table border=\"1\" class=\"dataframe\">\n",
       "  <thead>\n",
       "    <tr style=\"text-align: right;\">\n",
       "      <th></th>\n",
       "      <th>created_date</th>\n",
       "      <th>item_name</th>\n",
       "      <th>profit</th>\n",
       "      <th>category_name</th>\n",
       "    </tr>\n",
       "  </thead>\n",
       "  <tbody>\n",
       "    <tr>\n",
       "      <th>0</th>\n",
       "      <td>15-06-2024</td>\n",
       "      <td>Super coffee</td>\n",
       "      <td>400</td>\n",
       "      <td>Local coffee</td>\n",
       "    </tr>\n",
       "    <tr>\n",
       "      <th>1</th>\n",
       "      <td>21-06-2024</td>\n",
       "      <td>Super coffee</td>\n",
       "      <td>400</td>\n",
       "      <td>Local coffee</td>\n",
       "    </tr>\n",
       "    <tr>\n",
       "      <th>2</th>\n",
       "      <td>21-06-2024</td>\n",
       "      <td>Sunday Coffee</td>\n",
       "      <td>450</td>\n",
       "      <td>Local coffee</td>\n",
       "    </tr>\n",
       "    <tr>\n",
       "      <th>3</th>\n",
       "      <td>21-06-2024</td>\n",
       "      <td>Hsu Coffee</td>\n",
       "      <td>250</td>\n",
       "      <td>Local coffee</td>\n",
       "    </tr>\n",
       "    <tr>\n",
       "      <th>4</th>\n",
       "      <td>01-07-2024</td>\n",
       "      <td>Sunday Coffee</td>\n",
       "      <td>450</td>\n",
       "      <td>Local coffee</td>\n",
       "    </tr>\n",
       "    <tr>\n",
       "      <th>5</th>\n",
       "      <td>01-07-2024</td>\n",
       "      <td>Super coffee</td>\n",
       "      <td>400</td>\n",
       "      <td>Local coffee</td>\n",
       "    </tr>\n",
       "    <tr>\n",
       "      <th>6</th>\n",
       "      <td>10-07-2024</td>\n",
       "      <td>Hsu Coffee</td>\n",
       "      <td>250</td>\n",
       "      <td>Local coffee</td>\n",
       "    </tr>\n",
       "    <tr>\n",
       "      <th>7</th>\n",
       "      <td>10-07-2024</td>\n",
       "      <td>Sunday Coffee</td>\n",
       "      <td>450</td>\n",
       "      <td>Local coffee</td>\n",
       "    </tr>\n",
       "    <tr>\n",
       "      <th>8</th>\n",
       "      <td>10-07-2024</td>\n",
       "      <td>Hsu Coffee</td>\n",
       "      <td>250</td>\n",
       "      <td>Local coffee</td>\n",
       "    </tr>\n",
       "  </tbody>\n",
       "</table>\n",
       "</div>"
      ],
      "text/plain": [
       "  created_date      item_name  profit category_name\n",
       "0   15-06-2024   Super coffee     400  Local coffee\n",
       "1   21-06-2024   Super coffee     400  Local coffee\n",
       "2   21-06-2024  Sunday Coffee     450  Local coffee\n",
       "3   21-06-2024     Hsu Coffee     250  Local coffee\n",
       "4   01-07-2024  Sunday Coffee     450  Local coffee\n",
       "5   01-07-2024   Super coffee     400  Local coffee\n",
       "6   10-07-2024     Hsu Coffee     250  Local coffee\n",
       "7   10-07-2024  Sunday Coffee     450  Local coffee\n",
       "8   10-07-2024     Hsu Coffee     250  Local coffee"
      ]
     },
     "execution_count": 11,
     "metadata": {},
     "output_type": "execute_result"
    }
   ],
   "source": [
    "sale_item_df = pd.DataFrame(sale_item_dict)\n",
    "sale_item_df"
   ]
  },
  {
   "cell_type": "code",
   "execution_count": 12,
   "metadata": {},
   "outputs": [
    {
     "data": {
      "text/plain": [
       "created_date       21-06-2024\n",
       "item_name        Super coffee\n",
       "profit                    400\n",
       "category_name    Local coffee\n",
       "Name: 1, dtype: object"
      ]
     },
     "execution_count": 12,
     "metadata": {},
     "output_type": "execute_result"
    }
   ],
   "source": [
    "sale_item_df.iloc[1]"
   ]
  },
  {
   "cell_type": "code",
   "execution_count": 13,
   "metadata": {},
   "outputs": [
    {
     "data": {
      "text/plain": [
       "0     Super coffee\n",
       "1     Super coffee\n",
       "2    Sunday Coffee\n",
       "3       Hsu Coffee\n",
       "4    Sunday Coffee\n",
       "5     Super coffee\n",
       "6       Hsu Coffee\n",
       "7    Sunday Coffee\n",
       "8       Hsu Coffee\n",
       "Name: item_name, dtype: object"
      ]
     },
     "execution_count": 13,
     "metadata": {},
     "output_type": "execute_result"
    }
   ],
   "source": [
    "sale_item_df[\"item_name\"]"
   ]
  },
  {
   "cell_type": "code",
   "execution_count": 24,
   "metadata": {},
   "outputs": [
    {
     "data": {
      "text/html": [
       "<div>\n",
       "<style scoped>\n",
       "    .dataframe tbody tr th:only-of-type {\n",
       "        vertical-align: middle;\n",
       "    }\n",
       "\n",
       "    .dataframe tbody tr th {\n",
       "        vertical-align: top;\n",
       "    }\n",
       "\n",
       "    .dataframe thead th {\n",
       "        text-align: right;\n",
       "    }\n",
       "</style>\n",
       "<table border=\"1\" class=\"dataframe\">\n",
       "  <thead>\n",
       "    <tr style=\"text-align: right;\">\n",
       "      <th></th>\n",
       "      <th>created_date</th>\n",
       "      <th>item_name</th>\n",
       "      <th>profit</th>\n",
       "      <th>category_name</th>\n",
       "    </tr>\n",
       "  </thead>\n",
       "  <tbody>\n",
       "    <tr>\n",
       "      <th>2</th>\n",
       "      <td>21-06-2024</td>\n",
       "      <td>Sunday Coffee</td>\n",
       "      <td>450</td>\n",
       "      <td>Local coffee</td>\n",
       "    </tr>\n",
       "    <tr>\n",
       "      <th>4</th>\n",
       "      <td>01-07-2024</td>\n",
       "      <td>Sunday Coffee</td>\n",
       "      <td>450</td>\n",
       "      <td>Local coffee</td>\n",
       "    </tr>\n",
       "    <tr>\n",
       "      <th>7</th>\n",
       "      <td>10-07-2024</td>\n",
       "      <td>Sunday Coffee</td>\n",
       "      <td>450</td>\n",
       "      <td>Local coffee</td>\n",
       "    </tr>\n",
       "  </tbody>\n",
       "</table>\n",
       "</div>"
      ],
      "text/plain": [
       "  created_date      item_name  profit category_name\n",
       "2   21-06-2024  Sunday Coffee     450  Local coffee\n",
       "4   01-07-2024  Sunday Coffee     450  Local coffee\n",
       "7   10-07-2024  Sunday Coffee     450  Local coffee"
      ]
     },
     "execution_count": 24,
     "metadata": {},
     "output_type": "execute_result"
    }
   ],
   "source": [
    "sale_item_df[sale_item_df[\"item_name\"] == \"Sunday Coffee\"]"
   ]
  },
  {
   "cell_type": "code",
   "execution_count": 33,
   "metadata": {},
   "outputs": [],
   "source": [
    "import numpy as np\n",
    "import matplotlib.pyplot as plt"
   ]
  },
  {
   "cell_type": "code",
   "execution_count": 35,
   "metadata": {},
   "outputs": [
    {
     "name": "stdout",
     "output_type": "stream",
     "text": [
      "Super coffee\n",
      "['01-07-2024', '15-06-2024', '21-06-2024']\n",
      "[np.int64(400), np.int64(400), np.int64(400)]\n",
      "Hsu Coffee\n",
      "['10-07-2024', '21-06-2024']\n",
      "[np.int64(500), np.int64(250)]\n",
      "Sunday Coffee\n",
      "['01-07-2024', '10-07-2024', '21-06-2024']\n",
      "[np.int64(450), np.int64(450), np.int64(450)]\n"
     ]
    },
    {
     "data": {
      "image/png": "[encoded data removed]",
      "text/plain": [
       "<Figure size 640x480 with 1 Axes>"
      ]
     },
     "metadata": {},
     "output_type": "display_data"
    }
   ],
   "source": [
    "dist_item_name = set(sale_item_df[\"item_name\"].to_numpy())\n",
    "# print(type(dist_item_name))\n",
    "dist_item_name\n",
    "\n",
    "for cur_item_name in dist_item_name:\n",
    "    cur_df = sale_item_df[sale_item_df[\"item_name\"] == cur_item_name]\n",
    "    # print(cur_df)\n",
    "\n",
    "    x = list(set(cur_df[\"created_date\"].to_numpy()))\n",
    "    y = []\n",
    "\n",
    "    for cur_x in x:\n",
    "        temp_y = cur_df[cur_df[\"created_date\"] == cur_x][\"profit\"].to_numpy()\n",
    "        # print(temp_y)\n",
    "        y.append(np.sum(temp_y))\n",
    "    \n",
    "    print(cur_item_name)\n",
    "    print(x)\n",
    "    print(y)\n",
    "    # plt.plot(x, y)\n",
    "    plt.scatter(x, y)\n",
    "plt.show()\n"
   ]
  },
  {
   "cell_type": "code",
   "execution_count": null,
   "metadata": {},
   "outputs": [],
   "source": [
    "!pip install matplotlib"
   ]
  },
  {
   "cell_type": "code",
   "execution_count": 32,
   "metadata": {},
   "outputs": [
    {
     "name": "stderr",
     "output_type": "stream",
     "text": [
      "Matplotlib is building the font cache; this may take a moment.\n"
     ]
    },
    {
     "data": {
      "text/plain": [
       "[<matplotlib.lines.Line2D at 0x11d8c40a0>]"
      ]
     },
     "execution_count": 32,
     "metadata": {},
     "output_type": "execute_result"
    },
    {
     "data": {
      "image/png": "[encoded data removed]",
      "text/plain": [
       "<Figure size 640x480 with 1 Axes>"
      ]
     },
     "metadata": {},
     "output_type": "display_data"
    }
   ],
   "source": [
    "import matplotlib.pyplot as plt\n",
    "\n",
    "x = [10, 20, 30]\n",
    "y = [30, 40, 50]\n",
    "\n",
    "plt.plot(x, y)"
   ]
  },
  {
   "cell_type": "code",
   "execution_count": null,
   "metadata": {},
   "outputs": [],
   "source": []
  }
 ],
 "metadata": {
  "kernelspec": {
   "display_name": "dev_env",
   "language": "python",
   "name": "python3"
  },
  "language_info": {
   "codemirror_mode": {
    "name": "ipython",
    "version": 3
   },
   "file_extension": ".py",
   "mimetype": "text/x-python",
   "name": "python",
   "nbconvert_exporter": "python",
   "pygments_lexer": "ipython3",
   "version": "3.10.16"
  }
 },
 "nbformat": 4,
 "nbformat_minor": 2
}
