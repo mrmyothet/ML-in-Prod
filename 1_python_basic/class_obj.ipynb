{
 "cells": [
  {
   "cell_type": "code",
   "execution_count": 1,
   "metadata": {},
   "outputs": [],
   "source": [
    "from model import Item, Categories, SaleItem"
   ]
  },
  {
   "cell_type": "code",
   "execution_count": 2,
   "metadata": {},
   "outputs": [],
   "source": [
    "cat1 = Categories(created_date='03-06-2024', id='cat-001',name='Local coffee')\n",
    "\n",
    "i1 = Item(created_date='12-06-2024', item_id='i_001', name='Super coffee', qr_code='0000',\n",
    "price=3900, buying_price=3500, category=cat1)\n",
    "i2 = Item('17-06-2024', 'i_002', 'Sunday Coffee', '0000', 3450, 3000, cat1)\n",
    "i3 = Item(\"01-06-2024\", \"i_003\", \"Hsu Coffee\", \"0000\", 5450, 5200, cat1)"
   ]
  },
  {
   "cell_type": "code",
   "execution_count": 3,
   "metadata": {},
   "outputs": [],
   "source": [
    "sale1=  SaleItem(customer_id='CU_000001',created_date='15-06-2024',item=i1 )\n",
    "sale2=  SaleItem(customer_id='CU_000001',created_date='21-06-2024',item=i1 )\n",
    "sale3=  SaleItem(customer_id='CU_000001',created_date='21-06-2024',item=i2 )\n",
    "sale4=  SaleItem(customer_id='CU_000001',created_date='21-06-2024',item=i3 )\n",
    "sale5=  SaleItem(customer_id='CU_000001',created_date='01-07-2024',item=i2 )\n",
    "sale6=  SaleItem(customer_id='CU_000001',created_date='01-07-2024',item=i1 )\n",
    "sale7=  SaleItem(customer_id='CU_000001',created_date='10-07-2024',item=i3 )\n",
    "sale8=  SaleItem(customer_id='CU_000001',created_date='10-07-2024',item=i2 )\n",
    "sale9=  SaleItem(customer_id='CU_000001',created_date='10-07-2024',item=i3 )\n",
    "total_sale = [sale1,sale2,sale3,sale4,sale5,sale6,sale7,sale8,sale9]"
   ]
  },
  {
   "cell_type": "code",
   "execution_count": null,
   "metadata": {},
   "outputs": [],
   "source": [
    "sale_item_dict = {\n",
    "    \"created_date\": [],\n",
    "    \"item_name\": [], \n",
    "    \"profit\":[], \n",
    "    \"category_name\": []\n",
    "}\n",
    "\n",
    "for cur_obj in total_sale:\n",
    "    sale_item_dict[\"created_date\"].append(cur_obj.created_date)\n",
    "    sale_item_dict[\"item_name\"].append(cur_obj.item.name)\n",
    "    sale_item_dict[\"profit\"].append(cur_obj.item.getProfit())\n",
    "    sale_item_dict[\"category_name\"].append(cur_obj.item.category.name)\n",
    "\n",
    "sale_item_dict"
   ]
  },
  {
   "cell_type": "code",
   "execution_count": null,
   "metadata": {},
   "outputs": [],
   "source": [
    "!pip install pandas"
   ]
  },
  {
   "cell_type": "code",
   "execution_count": 10,
   "metadata": {},
   "outputs": [],
   "source": [
    "import pandas as pd"
   ]
  },
  {
   "cell_type": "code",
   "execution_count": null,
   "metadata": {},
   "outputs": [],
   "source": [
    "sale_item_df = pd.DataFrame(sale_item_dict)\n",
    "sale_item_df"
   ]
  },
  {
   "cell_type": "code",
   "execution_count": null,
   "metadata": {},
   "outputs": [],
   "source": [
    "sale_item_df.iloc[1]"
   ]
  },
  {
   "cell_type": "code",
   "execution_count": null,
   "metadata": {},
   "outputs": [],
   "source": [
    "sale_item_df[\"item_name\"]"
   ]
  },
  {
   "cell_type": "code",
   "execution_count": null,
   "metadata": {},
   "outputs": [],
   "source": [
    "sale_item_df[sale_item_df[\"item_name\"] == \"Sunday Coffee\"]"
   ]
  },
  {
   "cell_type": "code",
   "execution_count": 33,
   "metadata": {},
   "outputs": [],
   "source": [
    "import numpy as np\n",
    "import matplotlib.pyplot as plt"
   ]
  },
  {
   "cell_type": "code",
   "execution_count": null,
   "metadata": {},
   "outputs": [],
   "source": [
    "dist_item_name = set(sale_item_df[\"item_name\"].to_numpy())\n",
    "# print(type(dist_item_name))\n",
    "dist_item_name\n",
    "\n",
    "for cur_item_name in dist_item_name:\n",
    "    cur_df = sale_item_df[sale_item_df[\"item_name\"] == cur_item_name]\n",
    "    # print(cur_df)\n",
    "\n",
    "    x = list(set(cur_df[\"created_date\"].to_numpy()))\n",
    "    y = []\n",
    "\n",
    "    for cur_x in x:\n",
    "        temp_y = cur_df[cur_df[\"created_date\"] == cur_x][\"profit\"].to_numpy()\n",
    "        # print(temp_y)\n",
    "        y.append(np.sum(temp_y))\n",
    "    \n",
    "    print(cur_item_name)\n",
    "    print(x)\n",
    "    print(y)\n",
    "    # plt.plot(x, y)\n",
    "    plt.scatter(x, y)\n",
    "plt.show()\n"
   ]
  },
  {
   "cell_type": "code",
   "execution_count": null,
   "metadata": {},
   "outputs": [],
   "source": [
    "!pip install matplotlib"
   ]
  },
  {
   "cell_type": "code",
   "execution_count": null,
   "metadata": {},
   "outputs": [],
   "source": [
    "import matplotlib.pyplot as plt\n",
    "\n",
    "x = [10, 20, 30]\n",
    "y = [30, 40, 50]\n",
    "\n",
    "plt.plot(x, y)"
   ]
  },
  {
   "cell_type": "code",
   "execution_count": null,
   "metadata": {},
   "outputs": [],
   "source": []
  }
 ],
 "metadata": {
  "kernelspec": {
   "display_name": "dev_env",
   "language": "python",
   "name": "python3"
  },
  "language_info": {
   "codemirror_mode": {
    "name": "ipython",
    "version": 3
   },
   "file_extension": ".py",
   "mimetype": "text/x-python",
   "name": "python",
   "nbconvert_exporter": "python",
   "pygments_lexer": "ipython3",
   "version": "3.10.0"
  }
 },
 "nbformat": 4,
 "nbformat_minor": 2
}
