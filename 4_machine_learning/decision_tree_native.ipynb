{
 "cells": [
  {
   "cell_type": "code",
   "execution_count": 1,
   "metadata": {},
   "outputs": [],
   "source": [
    "import numpy as np\n",
    "import pandas as pd\n",
    "from sklearn.metrics import accuracy_score\n",
    "from sklearn.datasets import load_iris\n",
    "from sklearn.model_selection import train_test_split"
   ]
  },
  {
   "cell_type": "code",
   "execution_count": 2,
   "metadata": {},
   "outputs": [
    {
     "data": {
      "text/html": [
       "<div>\n",
       "<style scoped>\n",
       "    .dataframe tbody tr th:only-of-type {\n",
       "        vertical-align: middle;\n",
       "    }\n",
       "\n",
       "    .dataframe tbody tr th {\n",
       "        vertical-align: top;\n",
       "    }\n",
       "\n",
       "    .dataframe thead th {\n",
       "        text-align: right;\n",
       "    }\n",
       "</style>\n",
       "<table border=\"1\" class=\"dataframe\">\n",
       "  <thead>\n",
       "    <tr style=\"text-align: right;\">\n",
       "      <th></th>\n",
       "      <th>sepal length (cm)</th>\n",
       "      <th>sepal width (cm)</th>\n",
       "      <th>petal length (cm)</th>\n",
       "      <th>petal width (cm)</th>\n",
       "    </tr>\n",
       "  </thead>\n",
       "  <tbody>\n",
       "    <tr>\n",
       "      <th>0</th>\n",
       "      <td>5.1</td>\n",
       "      <td>3.5</td>\n",
       "      <td>1.4</td>\n",
       "      <td>0.2</td>\n",
       "    </tr>\n",
       "    <tr>\n",
       "      <th>1</th>\n",
       "      <td>4.9</td>\n",
       "      <td>3.0</td>\n",
       "      <td>1.4</td>\n",
       "      <td>0.2</td>\n",
       "    </tr>\n",
       "    <tr>\n",
       "      <th>2</th>\n",
       "      <td>4.7</td>\n",
       "      <td>3.2</td>\n",
       "      <td>1.3</td>\n",
       "      <td>0.2</td>\n",
       "    </tr>\n",
       "    <tr>\n",
       "      <th>3</th>\n",
       "      <td>4.6</td>\n",
       "      <td>3.1</td>\n",
       "      <td>1.5</td>\n",
       "      <td>0.2</td>\n",
       "    </tr>\n",
       "    <tr>\n",
       "      <th>4</th>\n",
       "      <td>5.0</td>\n",
       "      <td>3.6</td>\n",
       "      <td>1.4</td>\n",
       "      <td>0.2</td>\n",
       "    </tr>\n",
       "  </tbody>\n",
       "</table>\n",
       "</div>"
      ],
      "text/plain": [
       "   sepal length (cm)  sepal width (cm)  petal length (cm)  petal width (cm)\n",
       "0                5.1               3.5                1.4               0.2\n",
       "1                4.9               3.0                1.4               0.2\n",
       "2                4.7               3.2                1.3               0.2\n",
       "3                4.6               3.1                1.5               0.2\n",
       "4                5.0               3.6                1.4               0.2"
      ]
     },
     "execution_count": 2,
     "metadata": {},
     "output_type": "execute_result"
    }
   ],
   "source": [
    "dataset = load_iris(as_frame=True)\n",
    "df = pd.DataFrame(data=dataset.data)\n",
    "\n",
    "df.head()"
   ]
  },
  {
   "cell_type": "code",
   "execution_count": 3,
   "metadata": {},
   "outputs": [
    {
     "name": "stdout",
     "output_type": "stream",
     "text": [
      "(150, 6)\n"
     ]
    },
    {
     "data": {
      "text/html": [
       "<div>\n",
       "<style scoped>\n",
       "    .dataframe tbody tr th:only-of-type {\n",
       "        vertical-align: middle;\n",
       "    }\n",
       "\n",
       "    .dataframe tbody tr th {\n",
       "        vertical-align: top;\n",
       "    }\n",
       "\n",
       "    .dataframe thead th {\n",
       "        text-align: right;\n",
       "    }\n",
       "</style>\n",
       "<table border=\"1\" class=\"dataframe\">\n",
       "  <thead>\n",
       "    <tr style=\"text-align: right;\">\n",
       "      <th></th>\n",
       "      <th>sepal length (cm)</th>\n",
       "      <th>sepal width (cm)</th>\n",
       "      <th>petal length (cm)</th>\n",
       "      <th>petal width (cm)</th>\n",
       "      <th>target</th>\n",
       "      <th>target_names</th>\n",
       "    </tr>\n",
       "  </thead>\n",
       "  <tbody>\n",
       "    <tr>\n",
       "      <th>0</th>\n",
       "      <td>5.1</td>\n",
       "      <td>3.5</td>\n",
       "      <td>1.4</td>\n",
       "      <td>0.2</td>\n",
       "      <td>0</td>\n",
       "      <td>setosa</td>\n",
       "    </tr>\n",
       "    <tr>\n",
       "      <th>1</th>\n",
       "      <td>4.9</td>\n",
       "      <td>3.0</td>\n",
       "      <td>1.4</td>\n",
       "      <td>0.2</td>\n",
       "      <td>0</td>\n",
       "      <td>setosa</td>\n",
       "    </tr>\n",
       "    <tr>\n",
       "      <th>2</th>\n",
       "      <td>4.7</td>\n",
       "      <td>3.2</td>\n",
       "      <td>1.3</td>\n",
       "      <td>0.2</td>\n",
       "      <td>0</td>\n",
       "      <td>setosa</td>\n",
       "    </tr>\n",
       "    <tr>\n",
       "      <th>3</th>\n",
       "      <td>4.6</td>\n",
       "      <td>3.1</td>\n",
       "      <td>1.5</td>\n",
       "      <td>0.2</td>\n",
       "      <td>0</td>\n",
       "      <td>setosa</td>\n",
       "    </tr>\n",
       "    <tr>\n",
       "      <th>4</th>\n",
       "      <td>5.0</td>\n",
       "      <td>3.6</td>\n",
       "      <td>1.4</td>\n",
       "      <td>0.2</td>\n",
       "      <td>0</td>\n",
       "      <td>setosa</td>\n",
       "    </tr>\n",
       "  </tbody>\n",
       "</table>\n",
       "</div>"
      ],
      "text/plain": [
       "   sepal length (cm)  sepal width (cm)  petal length (cm)  petal width (cm)  \\\n",
       "0                5.1               3.5                1.4               0.2   \n",
       "1                4.9               3.0                1.4               0.2   \n",
       "2                4.7               3.2                1.3               0.2   \n",
       "3                4.6               3.1                1.5               0.2   \n",
       "4                5.0               3.6                1.4               0.2   \n",
       "\n",
       "   target target_names  \n",
       "0       0       setosa  \n",
       "1       0       setosa  \n",
       "2       0       setosa  \n",
       "3       0       setosa  \n",
       "4       0       setosa  "
      ]
     },
     "execution_count": 3,
     "metadata": {},
     "output_type": "execute_result"
    }
   ],
   "source": [
    "# adding target and target names to dataframe\n",
    "target_zip = dict(zip(set(dataset.target), dataset.target_names))\n",
    "df[\"target\"] = dataset.target\n",
    "df[\"target_names\"] = df[\"target\"].map(target_zip)\n",
    "\n",
    "print(df.shape)\n",
    "df.head()"
   ]
  },
  {
   "cell_type": "code",
   "execution_count": 4,
   "metadata": {},
   "outputs": [],
   "source": [
    "x = df.iloc[:, :4]\n",
    "y = df.iloc[:, -1]"
   ]
  },
  {
   "cell_type": "code",
   "execution_count": 5,
   "metadata": {},
   "outputs": [
    {
     "data": {
      "text/plain": [
       "0    setosa\n",
       "1    setosa\n",
       "2    setosa\n",
       "3    setosa\n",
       "4    setosa\n",
       "5    setosa\n",
       "6    setosa\n",
       "7    setosa\n",
       "8    setosa\n",
       "9    setosa\n",
       "Name: target_names, dtype: object"
      ]
     },
     "execution_count": 5,
     "metadata": {},
     "output_type": "execute_result"
    }
   ],
   "source": [
    "y[:10]"
   ]
  },
  {
   "cell_type": "code",
   "execution_count": 6,
   "metadata": {},
   "outputs": [
    {
     "name": "stdout",
     "output_type": "stream",
     "text": [
      "x_train shape:  (112, 4)\n",
      "y_train shape:  (112,)\n",
      "x_test shape:  (38, 4)\n",
      "y_test shape:  (38,)\n"
     ]
    }
   ],
   "source": [
    "# split training and test\n",
    "x_train, x_test, y_train, y_test = train_test_split(x, y, train_size=0.75, shuffle=True, random_state=24)\n",
    "\n",
    "print(\"x_train shape: \", x_train.shape)\n",
    "print(\"y_train shape: \", y_train.shape)\n",
    "\n",
    "print(\"x_test shape: \", x_test.shape)\n",
    "print(\"y_test shape: \", y_test.shape)"
   ]
  },
  {
   "cell_type": "code",
   "execution_count": 7,
   "metadata": {},
   "outputs": [
    {
     "data": {
      "text/plain": [
       "53     versicolor\n",
       "58     versicolor\n",
       "95     versicolor\n",
       "22         setosa\n",
       "15         setosa\n",
       "20         setosa\n",
       "69     versicolor\n",
       "141     virginica\n",
       "88     versicolor\n",
       "37         setosa\n",
       "Name: target_names, dtype: object"
      ]
     },
     "execution_count": 7,
     "metadata": {},
     "output_type": "execute_result"
    }
   ],
   "source": [
    "y_train[:10]"
   ]
  },
  {
   "cell_type": "code",
   "execution_count": 8,
   "metadata": {},
   "outputs": [],
   "source": [
    "def partition(data, column, value):\n",
    "    \"\"\"\n",
    "    Partition the data into left (indicating True) and right (indicating False)\n",
    "\n",
    "    Inputs\n",
    "    data: data to partition\n",
    "\n",
    "    Outputs\n",
    "    left: index of values that meet condition\n",
    "    right: index of values that fail to meet the condition\n",
    "    \"\"\"\n",
    "\n",
    "    left = data[data[column] <= value].index\n",
    "    right = data[data[column] > value].index\n",
    "\n",
    "    return left, right"
   ]
  },
  {
   "cell_type": "code",
   "execution_count": 9,
   "metadata": {},
   "outputs": [
    {
     "name": "stdout",
     "output_type": "stream",
     "text": [
      "petal length (cm) <= 2.45\n",
      "(38,)\n",
      "(74,)\n"
     ]
    }
   ],
   "source": [
    "left_index, right_index = partition(x_train, \"petal length (cm)\", 2.45)\n",
    "\n",
    "print(\"petal length (cm) <= 2.45\")\n",
    "print(left_index.shape)\n",
    "print(right_index.shape)"
   ]
  },
  {
   "cell_type": "code",
   "execution_count": 10,
   "metadata": {},
   "outputs": [
    {
     "name": "stdout",
     "output_type": "stream",
     "text": [
      "left index: {np.str_('setosa'): np.int64(38)}\n",
      "right index: {np.str_('versicolor'): np.int64(42), np.str_('virginica'): np.int64(32)}\n"
     ]
    }
   ],
   "source": [
    "left_idx = dict(zip(np.unique(y_train.loc[left_index], return_counts=True)[0], np.unique(y_train.loc[left_index], return_counts=True)[1]))\n",
    "right_idx = dict(zip(np.unique(y_train.loc[right_index], return_counts=True)[0], np.unique(y_train.loc[right_index], return_counts=True)[1]))\n",
    "\n",
    "print(f\"left index: {left_idx}\")\n",
    "print(f\"right index: {right_idx}\")"
   ]
  },
  {
   "cell_type": "code",
   "execution_count": 11,
   "metadata": {},
   "outputs": [],
   "source": [
    "def gini_impurity(label, label_index):\n",
    "    \"\"\"\n",
    "    A measure of how often a randomly chosen element from the set would be incorrectly labelled\n",
    "    if it was randomly labelled accorrding to the distribution of labels in the subset \n",
    "\n",
    "    Inputs\n",
    "    label: The class label available at current node\n",
    "\n",
    "    Outputs\n",
    "    impurity: The gini impurity of the node \n",
    "    \"\"\"\n",
    "\n",
    "    # unique labels and counts in the data \n",
    "    unique_label, unique_label_count = np.unique(label.loc[label_index], return_counts=True)\n",
    "\n",
    "    impurity = 1.0\n",
    "    for i in range(len(unique_label)):\n",
    "        p_i = unique_label_count[i] / sum(unique_label_count)\n",
    "        impurity -= p_i ** 2\n",
    "    \n",
    "    return impurity"
   ]
  },
  {
   "cell_type": "code",
   "execution_count": 12,
   "metadata": {},
   "outputs": [
    {
     "data": {
      "text/plain": [
       "np.float64(0.6626275510204082)"
      ]
     },
     "execution_count": 12,
     "metadata": {},
     "output_type": "execute_result"
    }
   ],
   "source": [
    "impurity = gini_impurity(y_train, y_train.index)\n",
    "impurity"
   ]
  },
  {
   "cell_type": "code",
   "execution_count": 13,
   "metadata": {},
   "outputs": [],
   "source": [
    "def information_gain(label, left_index, right_index, impurity):\n",
    "    \"\"\"\n",
    "    For each node of the tree, the information gain represents the expected amount of information that would be needed to speficy\n",
    "    whether a new instance should be classified yes or no, given that the example reached that node\n",
    "\n",
    "    Inputs\n",
    "    left: The values that met the conditions of the current node\n",
    "    right: The values that failed to meet the conditions of the current node\n",
    "    gini_impurity: the uncertainty at the current node\n",
    "\n",
    "    Outputs\n",
    "    info_gain: Information Gain at the node\n",
    "    \"\"\"\n",
    "\n",
    "    p = float(len(left_index)) / (len(left_index) + len(right_index))\n",
    "    info_gain = impurity - p * gini_impurity(label, left_index) - (1-p) * gini_impurity(label, right_index)\n",
    "\n",
    "    return info_gain"
   ]
  },
  {
   "cell_type": "code",
   "execution_count": 14,
   "metadata": {},
   "outputs": [
    {
     "data": {
      "text/plain": [
       "np.float64(0.33830322669608387)"
      ]
     },
     "execution_count": 14,
     "metadata": {},
     "output_type": "execute_result"
    }
   ],
   "source": [
    "info_gain = information_gain(y_train, left_index, right_index, impurity)\n",
    "info_gain"
   ]
  },
  {
   "cell_type": "code",
   "execution_count": 15,
   "metadata": {},
   "outputs": [],
   "source": [
    "def find_best_split(df, label, index): \n",
    "    \"\"\"\n",
    "    Splits the data on the best column and value\n",
    "\n",
    "    Input \n",
    "    df: training data\n",
    "    label: target label\n",
    "    index: index of the data\n",
    "\n",
    "    Output: \n",
    "    best_gain: max information gain\n",
    "    best_col: the column that produced best information gain\n",
    "    best_val: the value of the column that produced best information gain\n",
    "\n",
    "    \"\"\"\n",
    "\n",
    "    best_gain = 0\n",
    "    best_col = None\n",
    "    best_value = None\n",
    "\n",
    "    df = df.loc[index] # convert training data to pandas dataframe\n",
    "    label_index = label.loc[index].index # get the index of the labels \n",
    "\n",
    "    impurity = gini_impurity(label, label_index) # deterimine the impurity at the current node \n",
    "\n",
    "    # go through the columns and store the unique values in each column \n",
    "    # (no point testing on the same value twice)\n",
    "    for col in df.columns:\n",
    "        unique_values = set(df[col])\n",
    "\n",
    "        # loop through each value and partition the data into True (left_index) and False (right_index)\n",
    "        for value in unique_values:\n",
    "            left_index , right_index = partition(df, col, value)\n",
    "\n",
    "            # ignore if the index is empty (meaning there was no features that met the dicision rule)\n",
    "            if len(left_index) == 0 or len(right_index) == 0:\n",
    "                continue\n",
    "\n",
    "            info_gain = information_gain(label, left_index, right_index, impurity)\n",
    "\n",
    "            if info_gain > best_gain:\n",
    "                best_gain, best_col, best_value = info_gain, col, value\n",
    "\n",
    "    return best_gain, best_col, best_value"
   ]
  },
  {
   "cell_type": "code",
   "execution_count": 16,
   "metadata": {},
   "outputs": [
    {
     "data": {
      "text/plain": [
       "(np.float64(0.33830322669608387), 'petal length (cm)', 1.9)"
      ]
     },
     "execution_count": 16,
     "metadata": {},
     "output_type": "execute_result"
    }
   ],
   "source": [
    "find_best_split(x_train, y_train, y_train.index)"
   ]
  },
  {
   "cell_type": "code",
   "execution_count": 17,
   "metadata": {},
   "outputs": [],
   "source": [
    "# helper function to count values \n",
    "def count(label, index):\n",
    "    \"\"\"\n",
    "    To count the unique values\n",
    "\n",
    "    Input \n",
    "    label: target labels\n",
    "    index: index of rows\n",
    "\n",
    "    Output\n",
    "    dict_label_count: Dictionary of label and count \n",
    "    \"\"\"\n",
    "\n",
    "    unique_label, unique_label_counts = np.unique(label.loc[index], return_counts=True)\n",
    "\n",
    "    dict_label_count = dict(zip(unique_label, unique_label_counts))\n",
    "\n",
    "    return dict_label_count"
   ]
  },
  {
   "cell_type": "code",
   "execution_count": 18,
   "metadata": {},
   "outputs": [
    {
     "data": {
      "text/plain": [
       "{np.str_('setosa'): np.int64(38),\n",
       " np.str_('versicolor'): np.int64(42),\n",
       " np.str_('virginica'): np.int64(32)}"
      ]
     },
     "execution_count": 18,
     "metadata": {},
     "output_type": "execute_result"
    }
   ],
   "source": [
    "count(y_train, y_train.index)"
   ]
  },
  {
   "cell_type": "code",
   "execution_count": 19,
   "metadata": {},
   "outputs": [],
   "source": [
    "# https://github.com/random-forests/tutorials/blob/master/decision_tree.ipynb\n",
    "class Leaf:\n",
    "    \"\"\"\n",
    "    A Leaf node classifies data.\n",
    "\n",
    "    This holds a dictionary of class (e.g., \"Apple\") -> number of times\n",
    "    it appears in the rows from the training data that reach this leaf.\n",
    "    \"\"\"\n",
    "\n",
    "    def __init__(self, label, idx):\n",
    "        self.predictions = count(label, idx)"
   ]
  },
  {
   "cell_type": "code",
   "execution_count": 20,
   "metadata": {},
   "outputs": [],
   "source": [
    "class Decision_Node:\n",
    "    \"\"\"\n",
    "    A Decision Node asks a question.\n",
    "\n",
    "    This holds a reference to the question, and to the two child nodes.\n",
    "    \"\"\"\n",
    "\n",
    "    def __init__(self,\n",
    "                 column,\n",
    "                 value,\n",
    "                 true_branch,\n",
    "                 false_branch):\n",
    "        self.column = column\n",
    "        self.value = value\n",
    "        self.true_branch = true_branch\n",
    "        self.false_branch = false_branch"
   ]
  },
  {
   "cell_type": "code",
   "execution_count": 21,
   "metadata": {},
   "outputs": [],
   "source": [
    "def print_tree(node, spacing=\"\"):\n",
    "        \"\"\"\n",
    "        World's most elegant tree printing function.\n",
    "\n",
    "        Input\n",
    "        node: the tree node\n",
    "        spacing: used to space creating tree like structure\n",
    "        \"\"\"\n",
    "\n",
    "        # Base case: we've reached a leaf\n",
    "        if isinstance(node, Leaf):\n",
    "            print (spacing + \"Predict\", node.predictions)\n",
    "            return\n",
    "\n",
    "        # Print the col and value at this node\n",
    "        print(spacing + f\"[{node.column} <= {node.value}]\")\n",
    "\n",
    "\n",
    "        # Call this function recursively on the true branch\n",
    "        print (spacing + '--> True:')\n",
    "        print_tree(node.true_branch, spacing + \"  \")\n",
    "\n",
    "        # Call this function recursively on the false branch\n",
    "        print (spacing + '--> False:')\n",
    "        print_tree(node.false_branch, spacing + \"  \")"
   ]
  },
  {
   "cell_type": "code",
   "execution_count": 22,
   "metadata": {},
   "outputs": [],
   "source": [
    "def build_tree(df, label, idx): \n",
    "    \"\"\"\n",
    "    Recursively Builds the tree until is leaf is pure. \n",
    "    \n",
    "    Input \n",
    "    df: the training data\n",
    "    label: the target labels\n",
    "    idx: the indexes \n",
    "    \n",
    "    Output\n",
    "    best_col: the best column \n",
    "    best_value: the value of the column that minimizes impurity \n",
    "    true_branch: the true branch \n",
    "    false_branch: the false branch \n",
    "    \"\"\"\n",
    "    best_gain, best_col, best_value = find_best_split(df, label, idx)\n",
    "    \n",
    "    if best_gain == 0: \n",
    "        return Leaf(label, label.loc[idx].index)\n",
    "    \n",
    "    left_idx, right_idx = partition(df.loc[idx], best_col, best_value)\n",
    "    \n",
    "    true_branch = build_tree(df, label, left_idx)\n",
    "    \n",
    "    false_branch = build_tree(df, label, right_idx)\n",
    "    \n",
    "    return Decision_Node(best_col, best_value, true_branch, false_branch)"
   ]
  },
  {
   "cell_type": "code",
   "execution_count": 23,
   "metadata": {},
   "outputs": [],
   "source": [
    "my_tree = build_tree(x_train, y_train, x_train.index)"
   ]
  },
  {
   "cell_type": "code",
   "execution_count": 24,
   "metadata": {},
   "outputs": [
    {
     "name": "stdout",
     "output_type": "stream",
     "text": [
      "[petal length (cm) <= 1.9]\n",
      "--> True:\n",
      "  Predict {np.str_('setosa'): np.int64(38)}\n",
      "--> False:\n",
      "  [petal width (cm) <= 1.6]\n",
      "  --> True:\n",
      "    [petal length (cm) <= 4.9]\n",
      "    --> True:\n",
      "      Predict {np.str_('versicolor'): np.int64(40)}\n",
      "    --> False:\n",
      "      [sepal length (cm) <= 6.0]\n",
      "      --> True:\n",
      "        [sepal width (cm) <= 2.2]\n",
      "        --> True:\n",
      "          Predict {np.str_('virginica'): np.int64(1)}\n",
      "        --> False:\n",
      "          Predict {np.str_('versicolor'): np.int64(1)}\n",
      "      --> False:\n",
      "        Predict {np.str_('virginica'): np.int64(2)}\n",
      "  --> False:\n",
      "    [petal length (cm) <= 4.8]\n",
      "    --> True:\n",
      "      [sepal width (cm) <= 3.0]\n",
      "      --> True:\n",
      "        Predict {np.str_('virginica'): np.int64(3)}\n",
      "      --> False:\n",
      "        Predict {np.str_('versicolor'): np.int64(1)}\n",
      "    --> False:\n",
      "      Predict {np.str_('virginica'): np.int64(26)}\n"
     ]
    }
   ],
   "source": [
    "print_tree(my_tree)"
   ]
  },
  {
   "cell_type": "code",
   "execution_count": 25,
   "metadata": {},
   "outputs": [],
   "source": [
    "def predict(test_data, tree):\n",
    "    \n",
    "    \"\"\"\n",
    "    Classify unseen examples\n",
    "    \n",
    "    Inputs\n",
    "    test_data: Unseen observation\n",
    "    tree: tree that has been trained on training data\n",
    "    \n",
    "    Output\n",
    "    The prediction of the observation.\n",
    "    \"\"\"\n",
    "    \n",
    "    # Check if we are at a leaf node\n",
    "    if isinstance(tree, Leaf): \n",
    "        return max(tree.predictions)\n",
    "    \n",
    "    # the current feature_name and value \n",
    "    feature_name, feature_value = tree.column, tree.value\n",
    "    \n",
    "    # pass the observation through the nodes recursively\n",
    "    if test_data[feature_name] <= feature_value: \n",
    "        return predict(test_data, tree.true_branch)\n",
    "    \n",
    "    else: \n",
    "        return predict(test_data, tree.false_branch)"
   ]
  },
  {
   "cell_type": "code",
   "execution_count": 26,
   "metadata": {},
   "outputs": [
    {
     "data": {
      "text/plain": [
       "(sepal length (cm)    5.3\n",
       " sepal width (cm)     3.7\n",
       " petal length (cm)    1.5\n",
       " petal width (cm)     0.2\n",
       " Name: 48, dtype: float64,\n",
       " np.str_('setosa'))"
      ]
     },
     "execution_count": 26,
     "metadata": {},
     "output_type": "execute_result"
    }
   ],
   "source": [
    "# take one instance to test function \n",
    "example, example_target = x_test.iloc[6], y_test.iloc[6]\n",
    "example, example_target"
   ]
  },
  {
   "cell_type": "code",
   "execution_count": 27,
   "metadata": {},
   "outputs": [
    {
     "data": {
      "text/plain": [
       "np.str_('setosa')"
      ]
     },
     "execution_count": 27,
     "metadata": {},
     "output_type": "execute_result"
    }
   ],
   "source": [
    "predict(example, my_tree)"
   ]
  },
  {
   "cell_type": "code",
   "execution_count": 28,
   "metadata": {},
   "outputs": [],
   "source": [
    "x_test[\"predictions\"] = x_test.apply(predict, axis=1, args=(my_tree,))"
   ]
  },
  {
   "cell_type": "code",
   "execution_count": 29,
   "metadata": {},
   "outputs": [
    {
     "name": "stdout",
     "output_type": "stream",
     "text": [
      "ACCURACY:  0.9736842105263158\n"
     ]
    }
   ],
   "source": [
    "accuracy = accuracy_score(y_test, x_test[\"predictions\"])\n",
    "print(\"ACCURACY: \", accuracy)"
   ]
  }
 ],
 "metadata": {
  "kernelspec": {
   "display_name": "3.10.12",
   "language": "python",
   "name": "python3"
  },
  "language_info": {
   "codemirror_mode": {
    "name": "ipython",
    "version": 3
   },
   "file_extension": ".py",
   "mimetype": "text/x-python",
   "name": "python",
   "nbconvert_exporter": "python",
   "pygments_lexer": "ipython3",
   "version": "3.10.12"
  }
 },
 "nbformat": 4,
 "nbformat_minor": 2
}
